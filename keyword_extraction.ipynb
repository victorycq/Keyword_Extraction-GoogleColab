{
  "nbformat": 4,
  "nbformat_minor": 0,
  "metadata": {
    "colab": {
      "name": "keyword extraction.ipynb",
      "provenance": [],
      "collapsed_sections": [],
      "authorship_tag": "ABX9TyNR8SA9ensRdi7G1+vPc9Xh",
      "include_colab_link": true
    },
    "kernelspec": {
      "name": "python3",
      "display_name": "Python 3"
    }
  },
  "cells": [
    {
      "cell_type": "markdown",
      "metadata": {
        "id": "view-in-github",
        "colab_type": "text"
      },
      "source": [
        "<a href=\"https://colab.research.google.com/github/victorycq/Keyword_Extraction-GoogleColab/blob/master/keyword_extraction.ipynb\" target=\"_parent\"><img src=\"https://colab.research.google.com/assets/colab-badge.svg\" alt=\"Open In Colab\"/></a>"
      ]
    },
    {
      "cell_type": "code",
      "metadata": {
        "id": "FaDzBuI3WYm5",
        "colab_type": "code",
        "colab": {
          "base_uri": "https://localhost:8080/",
          "height": 33
        },
        "outputId": "f4578d78-43c2-4572-f3a0-692dbddcdc29"
      },
      "source": [
        "import requests as rq #library untuk melakukan request ke suatu website\n",
        "from bs4 import BeautifulSoup as bs #import beautiful soup library\n",
        "import csv #untuk membuat file csv\n",
        "\n",
        "page = rq.get('https://medium.com/search?q=biology') #request ke halaman medium.com\n",
        "print(page.status_code) #cek status request, jika 200 maka berhasil masuk\n",
        "soup = bs(page.content, 'html.parser') #mendapatkan content dari halaman medium.com\n",
        "# print(soup.prettify()) #melihat struktur html dari halaman medium.com"
      ],
      "execution_count": 1,
      "outputs": [
        {
          "output_type": "stream",
          "text": [
            "200\n"
          ],
          "name": "stdout"
        }
      ]
    },
    {
      "cell_type": "code",
      "metadata": {
        "id": "otKbbVqAkU9U",
        "colab_type": "code",
        "colab": {
          "base_uri": "https://localhost:8080/",
          "height": 338
        },
        "outputId": "ec282c54-eec9-4ca5-b1b3-585526582b31"
      },
      "source": [
        "# f = open('result_bs4.csv', 'w') #membuka file csv dengan nama result, kode 'w' artinya write\n",
        "# w = csv.writer(f)\n",
        "# w.writerow(('Judul','Kategori-Tanggal','Link')) #menuliskan pada baris file csv, ini untuk header kolom\n",
        "\n",
        "for link in soup.findAll(\"div\", {\"class\": \"postArticle-content\"}): #memcari semua tag div dengan nama class desc_nhl\n",
        "  # print(link.prettify())\n",
        "  if link.select_one('.graf--title') != None:\n",
        "    print(\"link detail article\", link.find('a').get('href'))\n",
        "    print(link.select_one('.graf--title').text) #kalo gk tau tag elementnya atau elementnya gk fix, crawling bisa berdasarkan nama class saja tanpa melihat tag nya\n",
        "    # print(link.select('.graf--title').text) #kalo gk tau tag elementnya atau elementnya gk fix, crawling bisa berdasarkan nama class saja tanpa melihat tag nya\n",
        "    # gabung = link.h2.text,link.span.text,link.find('a').get('href')\n",
        "    # w.writerow(gabung) #tambahkan data pada baris file csv\n",
        "  \n",
        "# f.close() #tutup file csv atau simpan"
      ],
      "execution_count": 2,
      "outputs": [
        {
          "output_type": "stream",
          "text": [
            "link detail article https://medium.com/better-humans/the-biology-of-mindfulness-and-mindlessness-a-neuroscientists-perspective-1f539fa258bf?source=search_post---------0\n",
            "The Biology of Mindfulness and Mindlessness — A Neuroscientist’s Perspective\n",
            "link detail article https://medium.com/@dareobasanjo/the-big-lie-of-the-google-anti-diversity-manifesto-a-penis-makes-you-better-at-javascript-55ec8f894b78?source=search_post---------1\n",
            "The Big Lie of the Google Employee’s Anti-Diversity Manifesto: Biology is why Women Underrepresented in Tech\n",
            "link detail article https://medium.com/vantage/biology-s-most-stunning-and-strange-images-of-the-year-7eaa55a03a3b?source=search_post---------2\n",
            "Biology’s Most Stunning and Strange Images of the Year\n",
            "link detail article https://onezero.medium.com/will-heat-remake-human-biology-7e9c9dcf8ba7?source=search_post---------3\n",
            "Will Climate Change Remake Human Biology?\n",
            "link detail article https://onezero.medium.com/why-the-21st-century-will-be-defined-by-biology-fdb4da2edfd5?source=search_post---------4\n",
            "Why the 21st Century Will Be Defined by Biology\n",
            "link detail article https://medium.com/the-mission/its-not-biology-but-the-sexist-culture-that-is-driving-women-away-from-tech-8ce6d9fa247a?source=search_post---------5\n",
            "It’s Not Biology, But The Sexist Culture That Is Driving Women Away From Tech.\n",
            "link detail article https://medium.com/neodotlife/6-things-to-watch-in-synthetic-biology-f76666c7114e?source=search_post---------6\n",
            "6 Amazing Things to Watch in Synthetic Biology\n",
            "link detail article https://nexusmedianews.com/the-science-of-superheroes-8200ab9c6458?source=search_post---------7\n",
            "The Biology of Superheroes\n",
            "link detail article https://medium.com/@alysonescalante/biology-and-the-oppression-of-women-a9ec3786b0bb?source=search_post---------9\n",
            "Biology and The Oppression of Women\n"
          ],
          "name": "stdout"
        }
      ]
    },
    {
      "cell_type": "code",
      "metadata": {
        "id": "Y9lDjF2gqqwE",
        "colab_type": "code",
        "colab": {
          "base_uri": "https://localhost:8080/",
          "height": 33
        },
        "outputId": "cf42f785-61bf-4b6b-d1b6-4cbbaca5bec1"
      },
      "source": [
        "page = rq.get('https://medium.com/better-humans/the-biology-of-mindfulness-and-mindlessness-a-neuroscientists-perspective-1f539fa258bf?source=search_post---------0') #request ke halaman medium.com\n",
        "print(page.status_code) #cek status request, jika 200 maka berhasil masuk\n",
        "soup = bs(page.content, 'html.parser') #mendapatkan content dari halaman medium.com\n",
        "# print(soup.prettify()) #melihat struktur html dari halaman medium.com"
      ],
      "execution_count": 3,
      "outputs": [
        {
          "output_type": "stream",
          "text": [
            "200\n"
          ],
          "name": "stdout"
        }
      ]
    },
    {
      "cell_type": "code",
      "metadata": {
        "id": "jX6xRkm7rEoJ",
        "colab_type": "code",
        "colab": {
          "base_uri": "https://localhost:8080/",
          "height": 271
        },
        "outputId": "646b5add-ce43-41d3-e246-e57330e70a4d"
      },
      "source": [
        "for link in soup.findAll('section'): #memcari semua tag div dengan nama class desc_nhl\n",
        "  # print(link.prettify())\n",
        "  if link.find(\"div\", {\"class\" : \"o n\"}) != None:\n",
        "    link.find(\"div\", {\"class\" : \"o n\"}).decompose()\n",
        "  \n",
        "  print(link.get_text())\n",
        "  print(\"\")\n",
        "\n",
        "  # if link.h1 != None:\n",
        "  #   print(link.h1.text)\n",
        "  # if link.h2 != None:\n",
        "  #   for sentence in link.findAll('h2'):\n",
        "  #     print(sentence.text)\n",
        "  # if link.h3 != None:\n",
        "  #   print(link.h3.text)\n",
        "  # if link.p != None :\n",
        "  #   for sentence in link.findAll('p'):\n",
        "  #     print(sentence.text)"
      ],
      "execution_count": 12,
      "outputs": [
        {
          "output_type": "stream",
          "text": [
            "\n",
            "\n",
            "The Biology of Mindfulness and Mindlessness — A Neuroscientist’s PerspectivePowerful evidence based on the personal experience of a former heroin addict who became a brain scientistPhoto by jesse orrico on UnsplashI spent most of my life mindlessly obsessing about the past and the future. I was consumed by anxiety and tormented by my mind, but completely unaware of the source of my suffering.To escape my pain, I used drugs, resulting in 15 years of chronic heroin addiction. Heroin brought me to the very edge, but I was lucky. Pounded into submission by the most painful night of my life, I was forced to look at the world from a completely new perspective.That was in October 2013, when I was first introduced to mindfulness. Since then, I’ve become an author, a Ph.D. student, and a lecturer at the top two universities in Ireland, all in the area of the neuroscience of mindfulness.Understanding the science underlying mindfulness and meditation can be a powerful motivation for anyone building these habits. But it’s especially helpful if you’re the kind of person who wants evidence of efficacy before embarking on a new goal. (Gretchin Rubin characterizes this as a personality type of “questioner”.)\n",
            "\n",
            "How the Brain WorksNeuronsNeurons are the basic building blocks of your brain, and there are about 86 billion of them. A single neuron fires between five and fifty times per second, and on average, each neuron receives five thousand connections from other neurons. So, in the time it takes you to read this sentence, billions of neurons will have fired inside your head — a complex system, to put it mildly.For every action, thought, and feeling you will ever have, it’s neurons firing that allow you to make sense of the experience. This is the biological basis of learning. The more you practice a certain behaviour — say, mindfulness, or worry — associated neurons become more practised.These neurons are then required to fire more often and more quickly. To save energy, the brain creates new structures specific to the job at hand. This is the essence of learning, and what we call neuroplasticity.NeuroplasticityOur brains are malleable, like playdough, and our experiences determine their shape. This process is best compared to physical exercise. For example, thirty reps in a gym won’t make your muscles bigger, but thirty reps every day for a year will. The same is true for your brain, and over time, its shape will change.As a perennial worrier, I always felt tense, uneasy, and anxious. If my mind wasn’t scanning the world for potential threats, it was looking for ways to relieve my unrelenting anxiety. Over time, I literally transformed my brain into a finely tuned anxiety machine.It’s the same for any negative feelings, thoughts, and emotions. Whatever you rest your mind upon, be it anger, self-doubt, or fear, your brain will eventually take that shape.The reptilian brainThe human brain can be loosely divided into three regions: the reptilian brain, the limbic brain, and the cortex.The reptilian brain, the oldest of the three brain regions from an evolutionary perspective, is responsible for the body’s vital functions, such as body temperature, heart rate, and breathing. This structure is also in control of our instinctual and self-preserving behaviours, which ensure the survival of the species.This primitive part of the brain, which is also responsible for reckless and impulsive behaviour, can be highly problematic. Its need to survive is so powerful that it often fights with the logical part of the brain, the cortex.It’s like two different people having an argument. “Go on, have a drink.” “No, I better not.” “Ah, sure I deserve it.” “Yeah, but you’ll regret it later.” If you’re an anxious person, as I was, the reptile brain sees feelings of anxiety as a threat, even when it doesn’t know what’s causing them.Through experience, it knows that a drink can relieve anxiety, if only for a short while. So when you say yes to that drink, the reptilian brain has won. I often think back on my drug-induced years when my impulsive behaviour was controlled by my reptilian brain. There was never a fight, just a winner — the crocodile always got his drugs.The limbic brainThe limbic brain is comprised of several structures, found above the reptilian brain. The main components include the hippocampus, the amygdala, and the hypothalamus.The limbic brain supports a variety of functions. The hippocampus is essential for memory formation. The amygdala, located next to the hippocampus, plays a key role in emotions like fear, anxiety, and anger. The amygdala is also responsible for determining the strength of stored memories, whereby memories with strong emotional content tend to stick.The hypothalamus, which links the brain to the endocrine system, is a vital component of our stress response. It produces chemical messengers that can both stimulate or inhibit stress-releasing hormones.The cortexThe cortex, the most recent addition of the three brain regions, consists of grey matter surrounding the deeper white matter of the cerebrum. Grey matter contains the bodies of neurons, and white matter consists of the connecting fibres between different grey matter cells.The cortex is the part of the brain involved in higher-order functioning, such as abstract thought, problem-solving, appraisal of danger, and language. With unparalleled learning capacities, this highly flexible structure has enabled humans to do things no other species has done.The stress responseIn times of stress, the three core structures of the limbic system — the hippocampus, the amygdala, and the hypothalamus — work together in tandem.Consider this example. You are walking through a field when you see what looks like a snake. Stored memories in the hippocampus remind you that you’re scared of snakes. This lights up your amygdala — the fear centre of your brain — which activates your hypothalamus.The hypothalamus then sends a signal to your pituitary glands, which in turn, sends a message to your adrenal glands releasing cortisol throughout your bloodstream. Cortisol is the primary stress hormone, which prepares your body for fight or flight.\n",
            "\n",
            "The Neuroscience of MindlessnessIt’s not life or deathThe cortex, the reptilian brain, and the limbic brain collectively work together. They are interconnected by complex neural pathways (white matter) that have developed to influence one another.In the snake example above, a survival response from the reptilian brain would have activated the limbic system, releasing cortisol throughout your body. This speedy bodily response is what gets you out of immediate or potential danger.At the same time, however, the rational part of the brain, the cortex, appraises the situation. This is a slower process, and if you’re lucky, you realize that the snake is actually a piece of rubber. When this happens, the cortex deactivates the amygdala, which in turn inhibits the secretion of cortisol via the hypothalamus, thus bringing the body back into homeostasis.This is a very simple example, but in real life, things are never quite so black and white, especially in today’s busy world. When I think of how this relates to the old anxiety and addiction ravaged me, I get a headache. But let’s give it a go.My anxiety, which resulted from childhood trauma, centred on bodily sensations. Ever since I can remember, I was terrified of my heartbeat, breath, and pulse. If someone asked me to feel my own heartbeat, or if I even talked about it, my amygdala lit up like a Christmas tree.The reptilian brain, always thinking of self-preservation, said: “Right, I’ll get you out of this shit, pal.” So what did I do? Anything to get away from myself, anything to quieten my overactive mind — and for me, that was drugs.I often wonder what my rational mind, the cortex, was doing during this time. My heartbeat wasn’t going to kill me. I was never in any real danger. Surely my logical mind knew this. Wasn’t it supposed to tell my limbic system that everything was OK?Neuroscience provides us with many potential theories to explain these questions. The cortex might be worked too hard by an overactive limbic system, or simply unable to use logic to eliminate irrational fears. The truth is, we don’t know for sure, but understanding the basic mechanics of this system has provided me with a framework to realize that there is nothing to worry about — certainly not life or death stuff anyway.Emotional hijackingHave you ever felt completely shaken and overcome by fear? I have. I was easily overwhelmed before and during my addiction — it was my default. Daniel Goleman calls this an emotional hijacking, where your amygdala screams like a siren.This happens when something in your environment triggers a stress response. It might be your partner raising their voice, a work colleague criticizing you, a close call on the road, or someone giving you a fright.From a neuroscience perspective, the visual or auditory cortex — depending on whether it was a visual or verbal stimulus — sends a message to your amygdala, and a stress response is activated.You would think this is how most people experience stress, and it was certainly how it evolved in our species. But in today’s busy world, more often than not, the stress response is not activated by the external environment — it is activated by our own minds.This comes in two flavours: ruminating about a past you cannot change, and worrying about an imaginary future. These internal stressors are the worst kind of triggers. External stressors come and go, but fighting with your own mind is constant. And when it comes to stress, it’s like forgetting to tighten the cortisol tap when you leave the bathroom…drip, drip, drip.\n",
            "\n",
            "Neuroscience of MindfulnessIf you're persistently anxious, angry, or self-loathing, your brain will eventually take that shape. At the same time, however, you can shape your brain in a much more positive direction.By harnessing the power of neuroplasticity via regular mindfulness practice, you can become more resilient, develop sharper focus, and manage your emotions more effectively.The images below are scans of my own brain. The one on the left was conducted as part of a study in 2013 — when I was only two days clean, after 15 years of addiction. The one on the right was taken in May 2018 as part of a TV documentary about stress.Source: Unprocessed scans of my brain taken in 2013 and 2018. These scans contain the slice showing the anterior commissure, the standard anatomical structure used to compare brain scans. It was difficult to make exact slice comparisons as the images were scanned on different MRI machines using a different resolution.My brain was so different that the person analysing the scans could not compare the standard visual markers by eye (see the note above for a more technical explanation).It is difficult to specifically account for what caused these changes. In the four and a half years between the scans, I radically overhauled many aspects of my life, including diet, exercise, and sleep. I also went back to college and, of course, I stopped taking heroin.But for me, present moment awareness provided the foundations for all of these changes. From the day I was introduced to mindfulness, everything changed. It gave me a tool to cope with my greatest adversary, anxiety, and everything just flowed from there.Emotional regulationResearch shows that a regular mindfulness practice significantly weakens the amygdala’s ability to hijack your emotions. This happens in two ways. First, the amygdala decreases in physical size. Second, connections between the amygdala and the parts of the cortex associated with fear are weakened, while connections associated with higher-order brain functions (i.e. self-awareness) are strengthened.My own mindfulness practice has given me both of these gifts. I have literally shrunk the fear centre of my brain, and as a result, I simply don’t feel fear and anxiety like I used to. Stressful events still challenge me, but by creating a space between stimulus and response, I am no longer hijacked by my emotions.Attention and focusThe area of the brain associated with attention is a structure called the anterior cingulate cortex. It has also been linked to self-regulation and flexible thinking — the opposite of compulsive and rigid thinking.Research has found increased volume in this area of the brain after mindfulness practice. What’s more, when the connections between the amygdala and the rest of the cortex get weaker (i.e. the areas associated emotional hi-jacking), attentional control becomes stronger.One study showed that practising mindfulness for only 20 minutes per day for five days can lead to improvements in attention, while a more recent study showed that a brief mindfulness intervention improves attention in complete novices.Self-awareness“Self” means your self-concept, your story — who you think you are. If you are suffering in some way, like I was with anxiety, disconnecting from “self” will give you the freedom to experience a greater sense of wellbeing.Through improved self-awareness, mindfulness can provide a detachment from the self. Instead of being controlled by your self-concept, an ability to observe or experience the old you will emerge.Although research in this area is only just emerging, some promising studies have targeted an area known as the default mode network (DMN), also known as the wandering “Monkey Mind”.The DMN is active when our minds are directionless, aimlessly drifting from thought to thought. This has been linked to rumination and overthinking, which can be extremely counterproductive to our personal wellbeing.Mindfulness has been found to decrease activation of the DMN, and in effect, to quieten our busy minds. In one study, regions of the DMN showed reduced activation in meditators compared to non-meditators, which has been interpreted as a diminished reference to self.\n",
            "\n",
            "Simple Steps to Get Real ResultsPsychological phenomena, such as stress, rumination, and anxiety, are often thought of as abstract concepts that you cannot touch, feel, or see. But the fact is, these experiences are firmly grounded in biology.Fortunately, so is mindfulness, which appears to provide a potential solution for much of the suffering in today’s modern world. Having struggled with anxiety and addiction for most of my life, I have witnessed the power of mindfulness as it has helped me to thrive with a newfound lust for life.By practising mindfulness on a regular basis, I not only feel better, but I have also physically altered the structure and function of my brain. I’m no longer anxious, I no longer worry, and I’m more focused and aware than ever before.Bad habits are hard to break, but guess what: so are good ones. Anxiety has been replaced by a sense of calm — my new default — which is now entrenched in the physical fibres of my brain.Changing the shape of your brain, and therefore how you think and feel, is there for anyone. All you have to do is introduce regular mindfulness practises into your life. Stick with it for just 10 minutes per day.My one ask is that you do it every single day. Building this habit is crucial if you want to change your brain, but for increased awareness, focus, and emotional control, I don’t think that’s too big of an ask.\n",
            "\n",
            "What would you do if you had a second chance at life?Having escaped from the depths of heroin addiction (see before-after addiction pics below), I decided to write a book about it. Bonus Time: A true story of surviving the worst and discovering the magic of every moment. You can order a copy of the book here.Source: The picture on the left was taken in 2011, 2 years before I hit rock bottom. The picture on the right was taken in February 2020, as part of a photoshoot for my upcoming memoir.\n",
            "\n"
          ],
          "name": "stdout"
        }
      ]
    }
  ]
}